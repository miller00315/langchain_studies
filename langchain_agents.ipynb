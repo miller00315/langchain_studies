{
 "cells": [
  {
   "cell_type": "code",
   "execution_count": 1,
   "metadata": {},
   "outputs": [
    {
     "data": {
      "text/plain": [
       "True"
      ]
     },
     "execution_count": 1,
     "metadata": {},
     "output_type": "execute_result"
    }
   ],
   "source": [
    "from dotenv import load_dotenv\n",
    "from langchain_openai import OpenAI\n",
    "load_dotenv()"
   ]
  },
  {
   "cell_type": "code",
   "execution_count": 27,
   "metadata": {},
   "outputs": [],
   "source": [
    "llm = OpenAI(\n",
    "    temperature=0,\n",
    "    model_name='gpt-3.5-turbo-instruct'\n",
    ")"
   ]
  },
  {
   "cell_type": "code",
   "execution_count": 11,
   "metadata": {},
   "outputs": [
    {
     "name": "stderr",
     "output_type": "stream",
     "text": [
      "/home/miller/.local/share/virtualenvs/lang_chain_studies-WWOOpBwl/lib/python3.10/site-packages/langchain/chains/llm_math/base.py:58: UserWarning: Directly instantiating an LLMMathChain with an llm is deprecated. Please instantiate with llm_chain argument or using the from_llm class method.\n",
      "  warnings.warn(\n"
     ]
    }
   ],
   "source": [
    "from langchain.chains import LLMMathChain\n",
    "from langchain.agents import Tool\n",
    "\n",
    "ll_math = LLMMathChain(llm=llm)\n",
    "\n",
    "math_tool = Tool(\n",
    "    name='Calculator',\n",
    "    func=ll_math.run,\n",
    "    description='Useful for when you need to answer questions about math.'\n",
    ")\n",
    "\n",
    "tools = [math_tool]"
   ]
  },
  {
   "cell_type": "code",
   "execution_count": 12,
   "metadata": {},
   "outputs": [
    {
     "name": "stdout",
     "output_type": "stream",
     "text": [
      "Calculator --- Useful for when you need to answer questions about math.\n"
     ]
    }
   ],
   "source": [
    "print(tools[0].name, '---', tools[0].description)"
   ]
  },
  {
   "cell_type": "code",
   "execution_count": 13,
   "metadata": {},
   "outputs": [
    {
     "name": "stderr",
     "output_type": "stream",
     "text": [
      "/home/miller/.local/share/virtualenvs/lang_chain_studies-WWOOpBwl/lib/python3.10/site-packages/langchain_core/_api/deprecation.py:139: LangChainDeprecationWarning: The function `initialize_agent` was deprecated in LangChain 0.1.0 and will be removed in 0.3.0. Use Use new agent constructor methods like create_react_agent, create_json_agent, create_structured_chat_agent, etc. instead.\n",
      "  warn_deprecated(\n"
     ]
    }
   ],
   "source": [
    "from langchain.agents import initialize_agent\n",
    "\n",
    "zero_shot_agent = initialize_agent(\n",
    "    agent='zero-shot-react-description',\n",
    "    tools=tools,\n",
    "    llm=llm,\n",
    "    verbose=True,\n",
    "    max_iterations=10\n",
    ")"
   ]
  },
  {
   "cell_type": "code",
   "execution_count": 14,
   "metadata": {},
   "outputs": [
    {
     "name": "stderr",
     "output_type": "stream",
     "text": [
      "/home/miller/.local/share/virtualenvs/lang_chain_studies-WWOOpBwl/lib/python3.10/site-packages/langchain_core/_api/deprecation.py:139: LangChainDeprecationWarning: The method `Chain.__call__` was deprecated in langchain 0.1.0 and will be removed in 0.3.0. Use invoke instead.\n",
      "  warn_deprecated(\n"
     ]
    },
    {
     "name": "stdout",
     "output_type": "stream",
     "text": [
      "\n",
      "\n",
      "\u001b[1m> Entering new AgentExecutor chain...\u001b[0m\n",
      "\u001b[32;1m\u001b[1;3m I should use a calculator to find the square root of 25\n",
      "Action: Calculator\n",
      "Action Input: square root of 25\u001b[0m\n",
      "Observation: \u001b[36;1m\u001b[1;3mAnswer: 5.0\u001b[0m\n",
      "Thought:\u001b[32;1m\u001b[1;3m I now know the final answer\n",
      "Final Answer: 5.0\u001b[0m\n",
      "\n",
      "\u001b[1m> Finished chain.\u001b[0m\n"
     ]
    },
    {
     "data": {
      "text/plain": [
       "{'input': 'What is root over 25', 'output': '5.0'}"
      ]
     },
     "execution_count": 14,
     "metadata": {},
     "output_type": "execute_result"
    }
   ],
   "source": [
    "zero_shot_agent('What is root over 25')"
   ]
  },
  {
   "cell_type": "code",
   "execution_count": 15,
   "metadata": {},
   "outputs": [
    {
     "name": "stdout",
     "output_type": "stream",
     "text": [
      "\n",
      "\n",
      "\u001b[1m> Entering new AgentExecutor chain...\u001b[0m\n",
      "\u001b[32;1m\u001b[1;3m To find the total area, we need to calculate the area of each room and then add them together.\n",
      "Action: Calculator\n",
      "Action Input: Calculate 5*5\u001b[0m\n",
      "Observation: \u001b[36;1m\u001b[1;3mAnswer: 25\u001b[0m\n",
      "Thought:\u001b[32;1m\u001b[1;3m Now we need to calculate the area of the second bedroom.\n",
      "Action: Calculator\n",
      "Action Input: Calculate 5*5\u001b[0m\n",
      "Observation: \u001b[36;1m\u001b[1;3mAnswer: 25\u001b[0m\n",
      "Thought:\u001b[32;1m\u001b[1;3m Next, we need to calculate the area of the open kitchen.\n",
      "Action: Calculator\n",
      "Action Input: Calculate 7*6\u001b[0m\n",
      "Observation: \u001b[36;1m\u001b[1;3mAnswer: 42\u001b[0m\n",
      "Thought:\u001b[32;1m\u001b[1;3m Lastly, we need to calculate the area of the balcony.\n",
      "Action: Calculator\n",
      "Action Input: Calculate 3*2\u001b[0m\n",
      "Observation: \u001b[36;1m\u001b[1;3mAnswer: 6\u001b[0m\n",
      "Thought:\u001b[32;1m\u001b[1;3m Now we have all the individual areas, we can add them together to find the total area.\n",
      "Action: Calculator\n",
      "Action Input: Add 25+25+42+6\u001b[0m\n",
      "Observation: \u001b[36;1m\u001b[1;3mAnswer: 98\u001b[0m\n",
      "Thought:\u001b[32;1m\u001b[1;3m I now know the final answer.\n",
      "Final Answer: The total area of the house is 98 square meters.\u001b[0m\n",
      "\n",
      "\u001b[1m> Finished chain.\u001b[0m\n"
     ]
    },
    {
     "data": {
      "text/plain": [
       "{'input': '\\n    You are building a house. There are two bedrooms of 5 meters by 5 meters each, \\n    a open kitchenwith 7 meters by 6 meters \\n    and balcony of 3 meters by 2 meters.\\n    Qhat is the total area of your house? \\n',\n",
       " 'output': 'The total area of the house is 98 square meters.'}"
      ]
     },
     "execution_count": 15,
     "metadata": {},
     "output_type": "execute_result"
    }
   ],
   "source": [
    "problem = \"\"\"\n",
    "    You are building a house. There are two bedrooms of 5 meters by 5 meters each, \n",
    "    a open kitchenwith 7 meters by 6 meters \n",
    "    and balcony of 3 meters by 2 meters.\n",
    "    Qhat is the total area of your house? \n",
    "\"\"\"\n",
    "\n",
    "zero_shot_agent(problem)"
   ]
  },
  {
   "cell_type": "code",
   "execution_count": 32,
   "metadata": {},
   "outputs": [],
   "source": [
    "from langchain.tools import DuckDuckGoSearchRun\n",
    "\n",
    "\n",
    "search = DuckDuckGoSearchRun()\n",
    "\n",
    "search_tool = Tool.from_function(\n",
    "    func=search.run,\n",
    "    name='Search',\n",
    "    description='useful when you need to search the internet for information'\n",
    ")\n",
    "\n",
    "tools = [search_tool, math_tool]\n",
    "\n",
    "agent = initialize_agent(\n",
    "    tools,\n",
    "    llm,\n",
    "    agent='zero-shot-react-description',\n",
    "    verbose=True\n",
    ")"
   ]
  },
  {
   "cell_type": "code",
   "execution_count": 34,
   "metadata": {},
   "outputs": [
    {
     "name": "stdout",
     "output_type": "stream",
     "text": [
      "\n",
      "\n",
      "\u001b[1m> Entering new AgentExecutor chain...\u001b[0m\n",
      "\u001b[32;1m\u001b[1;3m I should use the Search tool to find the stock price information.\n",
      "Action: Search\n",
      "Action Input: 'Microsoft stock price google finance'\u001b[0m\n",
      "Observation: \u001b[36;1m\u001b[1;3mDiscover real-time Microsoft Corporation Common Stock (MSFT) stock prices, quotes, historical data, news, and Insights for informed trading and investment decisions. Stay ahead with Nasdaq. View Microsoft Corporation MSFT stock quote prices, financial information, real-time forecasts, and company news from CNN. Market Cap. $3,172B. Today's Change. (0.34%) $1.46. Current Price. $426.73. Price as of July 29, 2024, 4:00 p.m. ET. It was more about what the company isn't doing about a recent crisis, rather ... Get a real-time Microsoft Corporation (MSFT) stock price quote with breaking news, financials, statistics, charts and more. The Case for Investing in Google Stock Google, or Alphabet, stock has gained more than 40% in the past year, putting it on par with Microsoft.\u001b[0m\n",
      "Thought:\u001b[32;1m\u001b[1;3m I should use the Calculator tool to convert the stock price from USD to INR.\n",
      "Action: Calculator\n",
      "Action Input: 'USD to INR conversion'\u001b[0m\n",
      "Observation: \u001b[33;1m\u001b[1;3mAnswer: 5250\u001b[0m\n",
      "Thought:\u001b[32;1m\u001b[1;3m I should multiply the stock price in USD by the conversion rate to get the stock price in INR.\n",
      "Action: Calculator\n",
      "Action Input: '426.73 * 5250'\u001b[0m\n",
      "Observation: \u001b[33;1m\u001b[1;3mAnswer: 2240332.5\u001b[0m\n",
      "Thought:\u001b[32;1m\u001b[1;3m I now know the final answer.\n",
      "Final Answer: The Microsoft stock price in USD is $426.73 and in INR is 2240332.5.\u001b[0m\n",
      "\n",
      "\u001b[1m> Finished chain.\u001b[0m\n"
     ]
    },
    {
     "data": {
      "text/plain": [
       "'The Microsoft stock price in USD is $426.73 and in INR is 2240332.5.'"
      ]
     },
     "execution_count": 34,
     "metadata": {},
     "output_type": "execute_result"
    }
   ],
   "source": [
    "agent.run('Get Microsoft stock price taken from google finance and display in both USD and INR values')"
   ]
  },
  {
   "cell_type": "markdown",
   "metadata": {},
   "source": [
    "## Create a custom tool"
   ]
  },
  {
   "cell_type": "code",
   "execution_count": 38,
   "metadata": {},
   "outputs": [
    {
     "name": "stdout",
     "output_type": "stream",
     "text": [
      "\n",
      "\n",
      "\u001b[1m> Entering new AgentExecutor chain...\u001b[0m\n",
      "\u001b[32;1m\u001b[1;3m I should use lower_case to get the JSON response\n",
      "Action: lower_case\n",
      "Action Input: Which is the topt footbel team in the world at the moment?\u001b[0m\n",
      "Observation: \u001b[36;1m\u001b[1;3m{'Topic': 'Soccer', 'Question_Details': 'Which is the top football team in the world at the moment?', 'Detailed_Response': 'The top football team in the world at the moment is currently debated among experts and fans, but many consider FC Barcelona to be the current best team due to their recent success in major tournaments and their star players such as Lionel Messi and Neymar Jr.'}\u001b[0m\n",
      "\u001b[32;1m\u001b[1;3m\u001b[0m\n",
      "\n",
      "\u001b[1m> Finished chain.\u001b[0m\n"
     ]
    },
    {
     "data": {
      "text/plain": [
       "{'Topic': 'Soccer',\n",
       " 'Question_Details': 'Which is the top football team in the world at the moment?',\n",
       " 'Detailed_Response': 'The top football team in the world at the moment is currently debated among experts and fans, but many consider FC Barcelona to be the current best team due to their recent success in major tournaments and their star players such as Lionel Messi and Neymar Jr.'}"
      ]
     },
     "execution_count": 38,
     "metadata": {},
     "output_type": "execute_result"
    }
   ],
   "source": [
    "from langchain_core.output_parsers import JsonOutputParser\n",
    "from langchain.prompts import PromptTemplate\n",
    "from langchain.tools import tool\n",
    "\n",
    "@tool('lower_case', return_direct=True)\n",
    "def StructuredResponseTool(question: str):\n",
    "    '''Use this tool to send a prompt and get a JSON returned with three fields - Topic, Question_Details and Detailed_Response'''\n",
    "\n",
    "    json_prompt = PromptTemplate.from_template(\n",
    "        '''Return a JSON objetc with an `answer` key that answers the following question: {question}.\n",
    "        The JSON object will have fields - Topic, Question_Details asn Detailed_Response\n",
    "        '''\n",
    "    )\n",
    "\n",
    "    model = OpenAI(model_name='gpt-3.5-turbo-instruct', temperature=0.5)\n",
    "\n",
    "    json_parser = JsonOutputParser()\n",
    "\n",
    "    json_chain = json_prompt | model | json_parser\n",
    "\n",
    "    result = json_chain.invoke({'question': question})\n",
    "\n",
    "    return result\n",
    "\n",
    "tools = [StructuredResponseTool]\n",
    "\n",
    "zero_shot_agent = initialize_agent(\n",
    "    agent='zero-shot-react-description',\n",
    "    tools=tools,\n",
    "    llm=llm,\n",
    "    verbose= True,\n",
    "    max_iterations=10\n",
    ")\n",
    "\n",
    "zero_shot_agent.run(input='Which is the topt footbel team in the world at the moment?')"
   ]
  },
  {
   "cell_type": "code",
   "execution_count": null,
   "metadata": {},
   "outputs": [],
   "source": []
  },
  {
   "cell_type": "code",
   "execution_count": null,
   "metadata": {},
   "outputs": [],
   "source": []
  },
  {
   "cell_type": "code",
   "execution_count": null,
   "metadata": {},
   "outputs": [],
   "source": []
  },
  {
   "cell_type": "code",
   "execution_count": null,
   "metadata": {},
   "outputs": [],
   "source": []
  },
  {
   "cell_type": "code",
   "execution_count": null,
   "metadata": {},
   "outputs": [],
   "source": []
  },
  {
   "cell_type": "code",
   "execution_count": null,
   "metadata": {},
   "outputs": [],
   "source": []
  },
  {
   "cell_type": "code",
   "execution_count": null,
   "metadata": {},
   "outputs": [],
   "source": []
  }
 ],
 "metadata": {
  "kernelspec": {
   "display_name": "lang_chain_studies-WWOOpBwl",
   "language": "python",
   "name": "python3"
  },
  "language_info": {
   "codemirror_mode": {
    "name": "ipython",
    "version": 3
   },
   "file_extension": ".py",
   "mimetype": "text/x-python",
   "name": "python",
   "nbconvert_exporter": "python",
   "pygments_lexer": "ipython3",
   "version": "3.10.12"
  }
 },
 "nbformat": 4,
 "nbformat_minor": 2
}
