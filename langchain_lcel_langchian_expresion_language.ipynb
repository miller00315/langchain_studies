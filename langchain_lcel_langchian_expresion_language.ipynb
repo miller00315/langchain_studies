{
 "cells": [
  {
   "cell_type": "code",
   "execution_count": 1,
   "metadata": {},
   "outputs": [
    {
     "name": "stdout",
     "output_type": "stream",
     "text": [
      "Langsmith is a powerful tool that can greatly assist with testing in various ways. Here are some ways in which Langsmith can help with testing:\n",
      "\n",
      "1. Automated Testing: Langsmith can be used to automate testing processes by writing and executing test scripts. These scripts can be created to perform various tests, such as unit tests, integration tests, and end-to-end tests, thus helping to ensure the quality and reliability of the software being developed.\n",
      "\n",
      "2. Test Data Generation: Langsmith can be used to generate test data that can be used in testing processes. This can help in creating a diverse set of test scenarios and data inputs, which can help in uncovering potential issues and edge cases in the software.\n",
      "\n",
      "3. Performance Testing: Langsmith can be used to conduct performance tests on the software being developed. By writing scripts that simulate different usage scenarios and load conditions, Langsmith can help in identifying performance bottlenecks and areas for optimization.\n",
      "\n",
      "4. Continuous Integration: Langsmith can be integrated into continuous integration and continuous deployment pipelines, enabling automated testing to be performed at various stages of the software development lifecycle. This can help in catching and addressing issues early on, leading to faster and more reliable software releases.\n",
      "\n",
      "5. API Testing: Langsmith can be used to test APIs by writing scripts that make requests to API endpoints and validate the responses. This can help in ensuring the correctness and reliability of the APIs being developed.\n",
      "\n",
      "Overall, Langsmith can be a valuable tool in the testing process, helping to improve the quality, reliability, and performance of the software being developed.\n"
     ]
    }
   ],
   "source": [
    "from langchain_core.prompts import ChatPromptTemplate\n",
    "from langchain_openai import ChatOpenAI\n",
    "from langchain_core.output_parsers import StrOutputParser\n",
    "\n",
    "llm = ChatOpenAI()\n",
    "\n",
    "prompt = ChatPromptTemplate.from_messages([\n",
    "    ('system', 'you are world class technical documentation write'),\n",
    "    ('user', '{input}')\n",
    "])\n",
    "\n",
    "output_parser = StrOutputParser()\n",
    "\n",
    "chain = prompt | llm | output_parser\n",
    "\n",
    "output = chain.invoke({'input': 'how can langsmith help with testing?'})\n",
    "\n",
    "print(output)"
   ]
  }
 ],
 "metadata": {
  "kernelspec": {
   "display_name": "lang_chain_studies-WWOOpBwl",
   "language": "python",
   "name": "python3"
  },
  "language_info": {
   "codemirror_mode": {
    "name": "ipython",
    "version": 3
   },
   "file_extension": ".py",
   "mimetype": "text/x-python",
   "name": "python",
   "nbconvert_exporter": "python",
   "pygments_lexer": "ipython3",
   "version": "3.10.12"
  }
 },
 "nbformat": 4,
 "nbformat_minor": 2
}
