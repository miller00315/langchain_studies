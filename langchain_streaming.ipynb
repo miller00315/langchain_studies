{
 "cells": [
  {
   "cell_type": "code",
   "execution_count": null,
   "metadata": {},
   "outputs": [],
   "source": [
    "from  langchain_openai import ChatOpenAI\n",
    "\n",
    "llm = ChatOpenAI()\n",
    "\n",
    "prompt = 'Qrite a a rock song about teh moon and a Raven'\n",
    "\n",
    "\n",
    "print(llm.invoke(prompt))"
   ]
  },
  {
   "cell_type": "code",
   "execution_count": 5,
   "metadata": {},
   "outputs": [
    {
     "name": "stdout",
     "output_type": "stream",
     "text": [
      "Verse 1:\n",
      "Beneath the silver glow of the moon\n",
      "A raven spreads its wings and croons\n",
      "Its haunting call echoes through the night\n",
      "A creature of darkness taking flight\n",
      "\n",
      "Chorus:\n",
      "Moonlight shining down on me\n",
      "Raven flying wild and free\n",
      "In the dead of night, we'll soar\n",
      "Together forevermore\n",
      "\n",
      "Verse 2:\n",
      "The moon's reflection in its eye\n",
      "A symbol of the eternal sky\n",
      "The raven's cry a mournful tune\n",
      "A creature of the night, immune\n",
      "\n",
      "Chorus:\n",
      "Moonlight shining down on me\n",
      "Raven flying wild and free\n",
      "In the dead of night, we'll soar\n",
      "Together forevermore\n",
      "\n",
      "Bridge:\n",
      "The moon and raven, a timeless pair\n",
      "In the stillness of the night, they share\n",
      "A bond that cannot be broken\n",
      "In the darkness, they are awoken\n",
      "\n",
      "Chorus:\n",
      "Moonlight shining down on me\n",
      "Raven flying wild and free\n",
      "In the dead of night, we'll soar\n",
      "Together forevermore\n",
      "\n",
      "Outro:\n",
      "The moon and raven, a sight to see\n",
      "A rock song for eternity\n",
      "In the shadows, they will dance\n",
      "Forever in a moonlit trance"
     ]
    }
   ],
   "source": [
    "for chunk in llm.stream(prompt):\n",
    "    print(chunk.content, end='', flush=True)"
   ]
  },
  {
   "cell_type": "code",
   "execution_count": null,
   "metadata": {},
   "outputs": [],
   "source": []
  },
  {
   "cell_type": "code",
   "execution_count": null,
   "metadata": {},
   "outputs": [],
   "source": []
  },
  {
   "cell_type": "code",
   "execution_count": null,
   "metadata": {},
   "outputs": [],
   "source": []
  }
 ],
 "metadata": {
  "kernelspec": {
   "display_name": "lang_chain_studies-WWOOpBwl",
   "language": "python",
   "name": "python3"
  },
  "language_info": {
   "codemirror_mode": {
    "name": "ipython",
    "version": 3
   },
   "file_extension": ".py",
   "mimetype": "text/x-python",
   "name": "python",
   "nbconvert_exporter": "python",
   "pygments_lexer": "ipython3",
   "version": "3.10.12"
  }
 },
 "nbformat": 4,
 "nbformat_minor": 2
}
