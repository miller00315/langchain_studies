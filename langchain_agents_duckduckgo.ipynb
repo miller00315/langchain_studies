{
 "cells": [
  {
   "cell_type": "code",
   "execution_count": 1,
   "metadata": {},
   "outputs": [
    {
     "name": "stdout",
     "output_type": "stream",
     "text": [
      "Freddie Mercury (born September 5, 1946, Stone Town, Zanzibar [now in Tanzania]—died November 24, 1991, Kensington, London, England) was a British rock singer and songwriter whose flamboyant showmanship and powerfully agile vocals, most famously for the band Queen, made him one of rock's most dynamic front men.. Bulsara was born to Parsi parents who had emigrated from India to Zanzibar ... Freddie Mercury was born Farrokh Bulsara in Stone Town in the British protectorate of the Sultanate of Zanzibar, East Africa (now part of Tanzania) on September 5, 1946. When did he get his start in music? Freddie Mercury began his musical career in the late 1960s. He formed his first band, The Hectics, while attending St. Peter's School in ... Freddie Mercury was Britain's first Indian rock star. This fact and the nature of his sexuality were the two areas of his short life about which he would be intentionally obscure. Although he was born on the East African island of Zanzibar on September 5, 1946, his parents were both Indian; they were Parsees from Gujarat. Freddie Mercury was born Farrokh Bulsara in Stone Town, in the British protectorate of Zanzibar (now part of Tanzania), on September 5, 1946. His first big challenge was to come to terms with ... Freddie Mercury was born on September 5, 1946. Freddie Mercury, whose real name was Farrokh Bulsara, was born in Zanzibar, Tanzania. He later became the lead vocalist of the legendary rock band Queen. Freddie Mercury had a four-octave vocal range.\n"
     ]
    }
   ],
   "source": [
    "from langchain.tools import DuckDuckGoSearchRun\n",
    "\n",
    "search = DuckDuckGoSearchRun()\n",
    "\n",
    "output = search.invoke('Where was Freddie Mercury born?')\n",
    "\n",
    "print(output)"
   ]
  },
  {
   "cell_type": "code",
   "execution_count": 2,
   "metadata": {},
   "outputs": [
    {
     "data": {
      "text/plain": [
       "'A wrapper around DuckDuckGo Search. Useful for when you need to answer questions about current events. Input should be a search query.'"
      ]
     },
     "execution_count": 2,
     "metadata": {},
     "output_type": "execute_result"
    }
   ],
   "source": [
    "search.description"
   ]
  },
  {
   "cell_type": "code",
   "execution_count": 3,
   "metadata": {},
   "outputs": [
    {
     "data": {
      "text/plain": [
       "'duckduckgo_search'"
      ]
     },
     "execution_count": 3,
     "metadata": {},
     "output_type": "execute_result"
    }
   ],
   "source": [
    "search.name"
   ]
  },
  {
   "cell_type": "code",
   "execution_count": 4,
   "metadata": {},
   "outputs": [
    {
     "name": "stdout",
     "output_type": "stream",
     "text": [
      "[snippet: Freddie Mercury (born September 5, 1946, Stone Town, Zanzibar [now in Tanzania]—died November 24, 1991, Kensington, London, England) was a British rock singer and songwriter whose flamboyant showmanship and powerfully agile vocals, most famously for the band Queen, made him one of rock's most dynamic front men.. Bulsara was born to Parsi parents who had emigrated from India to Zanzibar ..., title: Freddie Mercury | Biography, Parents, Songs, & Facts, link: https://www.britannica.com/biography/Freddie-Mercury], [snippet: Freddie Mercury always talked about his pride at writing \"Killer Queen,\" which appeared on Queen's 1974 album Sheer Heart Attack. He said it was written in one night and was a song that he ..., title: Best Freddie Mercury Songs: 20 Essential Solo And Queen Tracks, link: https://www.udiscovermusic.com/stories/best-freddie-mercury-songs/], [snippet: Freddie Mercury's flamboyant stage presence and powerful vocals are undeniably iconic, but his influence goes far beyond the music. His bond with his Queen bandmates, Brian May, John Deacon, and Roger Taylor, was a key part of the band's success. These four men shared a unique creative partnership, experiencing the highs and lows of fame ..., title: Freddie Mercury's Real Relationship With His Bandmates In Queen, link: https://iloveclassicrock.com/freddie-mercurys-real-relationship-with-his-bandmates-in-queen/], [snippet: Freddie Mercury arrives at Knebworth (Image credit: Dave Hogan / Getty Images) While there was a familiar flourish to the encore of God Save The Queen - Mercury resplendent in crown and gown, bidding the crowd \"goodnight and sweet dreams\" - the band came offstage to find hairline cracks in their empire. The triumph of the night was ..., title: When Queen played Knebworth: Freddie Mercury's last show | Louder, link: https://www.loudersound.com/features/freddie-mercury-queen-knebworth-1986]\n"
     ]
    }
   ],
   "source": [
    "from langchain.tools import DuckDuckGoSearchResults\n",
    "\n",
    "search = DuckDuckGoSearchResults()\n",
    "\n",
    "output = search.invoke('Freddie Mercury and Queen?')\n",
    "\n",
    "print(output)"
   ]
  },
  {
   "cell_type": "code",
   "execution_count": 8,
   "metadata": {},
   "outputs": [
    {
     "name": "stdout",
     "output_type": "stream",
     "text": [
      "[snippet: Minas Gerais continues to mine diamonds, in addition to having larger or smaller scale productions of agate, emerald, garnet, jasper and sapphire. Topaz and tourmaline stand out. In topaz, Brazil has the most valuable variety in the world, imperial topaz, only produced in Ouro Preto. Furthermore, the country is the world's leading producer of ..., title: Minas Gerais - Wikipedia, link: https://en.wikipedia.org/wiki/Minas_Gerais], [snippet: Minas Gerais, large inland estado (state) of southeastern Brazil. It is the country's storehouse of mineral riches, as indicated by its name, which in Portuguese means \"General Mines.\" The state is bounded to the north by the states of Goiás and Bahia; to the east by Bahia, Espírito Santo, and Rio, title: Minas Gerais | State in Brazil, Geography, People, History, link: https://www.britannica.com/place/Minas-Gerais], [snippet: 3 How to get to Minas Gerais. 3.1 Day #1 in our 7-Day Minas Gerais Itinerary: São João Del Rei. 3.2 Day #2 in our 7-Day Minas Gerais Itinerary: Ouro Preto. 3.3 Day #3 in our 7-Day Minas Gerais Itinerary: Ouro Preto. 3.4 Day #4 in our 7-Day Minas Gerais Itinerary: Belo Horizonte. 3.5 Day #5 in our 7-Day Minas Gerais Itinerary: Belo Horizonte., title: 7-Day Itinerary in Minas Gerais, Brazil - The Art of Backpacking ..., link: https://www.outofyourcomfortzone.net/7-day-itinerary-in-minas-gerais-brazil/], [snippet: Belo Horizonte is the sixth-largest city in Brazil, with a population of around 2.3 million, and the third largest metropolitan area, with a population of 6 million. It is the 13th-largest city in South America and the 18th-largest in the Americas. The metropolis is anchor to the Belo Horizonte metropolitan area, ranked as the third most populous metropolitan area in Brazil and the 17th most ..., title: Belo Horizonte - Wikipedia, link: https://en.wikipedia.org/wiki/Belo_Horizonte]\n"
     ]
    }
   ],
   "source": [
    "from langchain_community.utilities import DuckDuckGoSearchAPIWrapper\n",
    "\n",
    "wrapper = DuckDuckGoSearchAPIWrapper(region='pt-BR', max_results=3, safesearch='moderate')\n",
    "\n",
    "search = DuckDuckGoSearchResults(api_wrapper=wrapper, source='news')\n",
    "\n",
    "output = search.run('Minas gerais')\n",
    "\n",
    "print(output)"
   ]
  },
  {
   "cell_type": "code",
   "execution_count": 14,
   "metadata": {},
   "outputs": [
    {
     "name": "stdout",
     "output_type": "stream",
     "text": [
      "Snippet: Minas Gerais continues to mine diamonds, in addition to having larger or smaller scale productions of agate, emerald, garnet, jasper and sapphire. Topaz and tourmaline stand out. In topaz, Brazil has the most valuable variety in the world, imperial topaz, only produced in Ouro Preto. Furthermore, the country is the world's leading producer of ..., title: Minas Gerais - Wikipedia, link: https://en.wikipedia.org/wiki/Minas_Gerais\n",
      "--------------------------------------------------\n",
      "Snippet: Minas Gerais, large inland estado (state) of southeastern Brazil. It is the country's storehouse of mineral riches, as indicated by its name, which in Portuguese means \"General Mines.\" The state is bounded to the north by the states of Goiás and Bahia; to the east by Bahia, Espírito Santo, and Rio, title: Minas Gerais | State in Brazil, Geography, People, History, link: https://www.britannica.com/place/Minas-Gerais\n",
      "--------------------------------------------------\n",
      "Snippet: 3 How to get to Minas Gerais. 3.1 Day #1 in our 7-Day Minas Gerais Itinerary: São João Del Rei. 3.2 Day #2 in our 7-Day Minas Gerais Itinerary: Ouro Preto. 3.3 Day #3 in our 7-Day Minas Gerais Itinerary: Ouro Preto. 3.4 Day #4 in our 7-Day Minas Gerais Itinerary: Belo Horizonte. 3.5 Day #5 in our 7-Day Minas Gerais Itinerary: Belo Horizonte., title: 7-Day Itinerary in Minas Gerais, Brazil - The Art of Backpacking ..., link: https://www.outofyourcomfortzone.net/7-day-itinerary-in-minas-gerais-brazil/\n",
      "--------------------------------------------------\n"
     ]
    }
   ],
   "source": [
    "import re\n",
    "\n",
    "pattern = r'snippet: (.*?), title: (.*?), link: (.*?)\\],'\n",
    "\n",
    "matches = re.findall(pattern, output,re.DOTALL)\n",
    "\n",
    "for snippet, title, link in matches:\n",
    "    print(f'Snippet: {snippet}, title: {title}, link: {link}')\n",
    "    print('-'*50)"
   ]
  },
  {
   "cell_type": "code",
   "execution_count": 17,
   "metadata": {},
   "outputs": [
    {
     "data": {
      "text/plain": [
       "\"Page: ChatGPT\\nSummary: ChatGPT is a chatbot and virtual assistant developed by OpenAI and launched on November 30, 2022. Based on large language models (LLMs), it enables users to refine and steer a conversation towards a desired length, format, style, level of detail, and language. Successive user prompts and replies are considered at each conversation stage as context.\\nChatGPT is credited with starting the AI boom, which has led to ongoing rapid investment in and public attention to the field of artificial intelligence (AI). By January 2023, it had become what was then the fastest-growing consumer software application in history, gaining over 100 million users and contributing to the growth of OpenAI's current valuation of $86 billion. ChatGPT's release spurred the release of competing products, including Gemini, Claude, Llama, Ernie, and Grok. Microsoft launched Copilot, initially based on OpenAI's GPT-4. In June 2024, a partnership between Apple Inc. and OpenAI was announced in whi\""
      ]
     },
     "execution_count": 17,
     "metadata": {},
     "output_type": "execute_result"
    }
   ],
   "source": [
    "from langchain_community.tools import WikipediaQueryRun\n",
    "from langchain_community.utilities import WikipediaAPIWrapper\n",
    "\n",
    "api_wrapper = WikipediaAPIWrapper(top_k_results=1, doc_content_chars_max=1000)\n",
    "wiki = WikipediaQueryRun(api_wrapper=api_wrapper)\n",
    "\n",
    "wiki.invoke({'query': 'gpt'})"
   ]
  },
  {
   "cell_type": "code",
   "execution_count": 18,
   "metadata": {},
   "outputs": [
    {
     "data": {
      "text/plain": [
       "\"Page: Gemini (chatbot)\\nSummary: Gemini, formerly known as Bard, is a generative artificial intelligence chatbot developed by Google. Based on the large language model (LLM) of the same name and developed as a direct response to the rise of OpenAI's ChatGPT, it was launched in a limited capacity in March 2023 before expanding to other countries in May. It was previously based on PaLM, and initially the LaMDA family of large language models.\\nLaMDA had been developed and announced in 2021, but it was not released to the public out of an abundance of caution. OpenAI's launch of ChatGPT in November 2022 and its subsequent popularity caught Google executives off-guard and sent them into a panic, prompting a sweeping response in the ensuing months. After mobilizing its workforce, the company launched Bard in February 2023, which took center stage during the 2023 Google I/O keynote in May and was upgraded to the Gemini LLM in December. Bard and Duet AI were unified under the Gemini brand in Fe\""
      ]
     },
     "execution_count": 18,
     "metadata": {},
     "output_type": "execute_result"
    }
   ],
   "source": [
    "wiki.invoke('google gemini')"
   ]
  }
 ],
 "metadata": {
  "kernelspec": {
   "display_name": "lang_chain_studies-WWOOpBwl",
   "language": "python",
   "name": "python3"
  },
  "language_info": {
   "codemirror_mode": {
    "name": "ipython",
    "version": 3
   },
   "file_extension": ".py",
   "mimetype": "text/x-python",
   "name": "python",
   "nbconvert_exporter": "python",
   "pygments_lexer": "ipython3",
   "version": "3.10.12"
  }
 },
 "nbformat": 4,
 "nbformat_minor": 2
}
