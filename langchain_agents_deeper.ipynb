{
 "cells": [
  {
   "cell_type": "markdown",
   "metadata": {},
   "source": [
    "## Conversational ReAct agents"
   ]
  },
  {
   "cell_type": "code",
   "execution_count": 7,
   "metadata": {},
   "outputs": [
    {
     "data": {
      "text/plain": [
       "True"
      ]
     },
     "execution_count": 7,
     "metadata": {},
     "output_type": "execute_result"
    }
   ],
   "source": [
    "from dotenv import load_dotenv\n",
    "from langchain.agents import create_react_agent, load_tools\n",
    "from langchain_openai import ChatOpenAI\n",
    "from langchain.memory import ConversationBufferMemory\n",
    "from langchain.agents import initialize_agent\n",
    "\n",
    "load_dotenv()"
   ]
  },
  {
   "cell_type": "code",
   "execution_count": 4,
   "metadata": {},
   "outputs": [],
   "source": [
    "llm = ChatOpenAI(temperature=0, model_name='gpt-3.5-turbo-0125')"
   ]
  },
  {
   "cell_type": "code",
   "execution_count": 5,
   "metadata": {},
   "outputs": [],
   "source": [
    "tools = load_tools(['llm-math'], llm=llm)"
   ]
  },
  {
   "cell_type": "code",
   "execution_count": 9,
   "metadata": {},
   "outputs": [],
   "source": [
    "memory = ConversationBufferMemory(memory_key='chat_history')\n",
    "\n",
    "conversational_agent = initialize_agent(\n",
    "    agent='conversational-react-description',\n",
    "    tools=tools,\n",
    "    llm=llm,\n",
    "    verbose=True,\n",
    "    max_iterations=3,\n",
    "    memory=memory\n",
    ")"
   ]
  },
  {
   "cell_type": "code",
   "execution_count": 10,
   "metadata": {},
   "outputs": [
    {
     "name": "stdout",
     "output_type": "stream",
     "text": [
      "\n",
      "\n",
      "\u001b[1m> Entering new AgentExecutor chain...\u001b[0m\n",
      "\u001b[32;1m\u001b[1;3mThought: Do I need to use a tool? Yes\n",
      "Action: Calculator\n",
      "Action Input: Add 7 to 9\u001b[0m\n",
      "Observation: \u001b[36;1m\u001b[1;3mAnswer: 16\u001b[0m\n",
      "Thought:\u001b[32;1m\u001b[1;3mDo I need to use a tool? No\n",
      "AI: The result of adding 7 to 9 is 16.\u001b[0m\n",
      "\n",
      "\u001b[1m> Finished chain.\u001b[0m\n",
      "\n",
      "\n",
      "\u001b[1m> Entering new AgentExecutor chain...\u001b[0m\n",
      "\u001b[32;1m\u001b[1;3mThought: Do I need to use a tool? Yes\n",
      "Action: Calculator\n",
      "Action Input: Add 16 and 5\u001b[0m\n",
      "Observation: \u001b[36;1m\u001b[1;3mAnswer: 21\u001b[0m\n",
      "Thought:\u001b[32;1m\u001b[1;3mDo I need to use a tool? No\n",
      "AI: The result of adding 5 to the previous result of 16 is 21.\u001b[0m\n",
      "\n",
      "\u001b[1m> Finished chain.\u001b[0m\n"
     ]
    }
   ],
   "source": [
    "output_1=conversational_agent.run('Add 7 to 9 and tell me the result.')\n",
    "\n",
    "output_2=conversational_agent.run('Add 5 to the previous result.')"
   ]
  },
  {
   "cell_type": "markdown",
   "metadata": {},
   "source": [
    "## React Docstore"
   ]
  },
  {
   "cell_type": "code",
   "execution_count": 14,
   "metadata": {},
   "outputs": [],
   "source": [
    "from langchain.agents import initialize_agent, Tool\n",
    "from langchain import Wikipedia\n",
    "from langchain.agents.react.base import DocstoreExplorer\n",
    "from langchain_openai import OpenAI\n",
    "\n",
    "docstore = DocstoreExplorer(Wikipedia())\n",
    "\n",
    "tools = [\n",
    "    Tool(name='Search', func=docstore.search, description='useful for when you need to searchWikipedia'),\n",
    "    Tool(name='Lookup', func=docstore.lookup, description='usefull for when you need to lokup a term in wikipedia')\n",
    "]\n",
    "\n",
    "# Initializin teh agent\n",
    "llm = OpenAI(temperature=0)\n",
    "\n",
    "docstore_agent = initialize_agent(\n",
    "    tools,\n",
    "    llm,\n",
    "    verbose=True,\n",
    "    handle_parsing_errors=True,\n",
    "    max_iterations=8\n",
    ")"
   ]
  },
  {
   "cell_type": "code",
   "execution_count": 15,
   "metadata": {},
   "outputs": [
    {
     "name": "stdout",
     "output_type": "stream",
     "text": [
      "\n",
      "\n",
      "\u001b[1m> Entering new AgentExecutor chain...\u001b[0m\n",
      "\u001b[32;1m\u001b[1;3m You should always think about what to do\n",
      "Action: Search\n",
      "Action Input: Mahatma Gandhi\u001b[0m\n",
      "Observation: \u001b[36;1m\u001b[1;3mMohandas Karamchand Gandhi (ISO: Mōhanadāsa Karamacaṁda Gāṁdhī; 2 October 1869 – 30 January 1948) was an Indian lawyer, anti-colonial nationalist and political ethicist who employed nonviolent resistance to lead the successful campaign for India's independence from British rule. He inspired movements for civil rights and freedom across the world. The honorific Mahātmā (from Sanskrit 'great-souled, venerable'), first applied to him in South Africa in 1914, is now used throughout the world.\n",
      "Born and raised in a Hindu family in coastal Gujarat, Gandhi trained in the law at the Inner Temple in London and was called to the bar in June 1891, at the age of 22. After two uncertain years in India, where he was unable to start a successful law practice, Gandhi moved to South Africa in 1893 to represent an Indian merchant in a lawsuit. He went on to live in South Africa for 21 years. There, Gandhi raised a family and first employed nonviolent resistance in a campaign for civil rights. In 1915, aged 45, he returned to India and soon set about organising peasants, farmers, and urban labourers to protest against discrimination and excessive land-tax.\n",
      "Assuming leadership of the Indian National Congress in 1921, Gandhi led nationwide campaigns for easing poverty, expanding women's rights, building religious and ethnic amity, ending untouchability, and, above all, achieving swaraj or self-rule. Gandhi adopted the short dhoti woven with hand-spun yarn as a mark of identification with India's rural poor. He began to live in a self-sufficient residential community, to eat simple food, and undertake long fasts as a means of both introspection and political protest. Bringing anti-colonial nationalism to the common Indians, Gandhi led them in challenging the British-imposed salt tax with the 400 km (250 mi) Dandi Salt March in 1930 and in calling for the British to quit India in 1942. He was imprisoned many times and for many years in both South Africa and India.\n",
      "Gandhi's vision of an independent India based on religious pluralism was challenged in the early 1940s by a Muslim nationalism which demanded a separate homeland for Muslims within British India. In August 1947, Britain granted independence, but the British Indian Empire was partitioned into two dominions, a Hindu-majority India and a Muslim-majority Pakistan. As many displaced Hindus, Muslims, and Sikhs made their way to their new lands, religious violence broke out, especially in the Punjab and Bengal. Abstaining from the official celebration of independence, Gandhi visited the affected areas, attempting to alleviate distress. In the months following, he undertook several hunger strikes to stop the religious violence. The last of these was begun in Delhi on 12 January 1948, when Gandhi was 78. The belief that Gandhi had been too resolute in his defence of both Pakistan and Indian Muslims spread among some Hindus in India. Among these was Nathuram Godse, a militant Hindu nationalist from Pune, western India, who assassinated Gandhi by firing three bullets into his chest at an interfaith prayer meeting in Delhi on 30 January 1948. \n",
      "Gandhi's birthday, 2 October, is commemorated in India as Gandhi Jayanti, a national holiday, and worldwide as the International Day of Nonviolence. Gandhi is considered to be the Father of the Nation in post-colonial India. During India's nationalist movement and in several decades immediately after, he was also commonly called Bapu (Gujarati endearment for \"father\", roughly \"papa\", \"daddy\").\u001b[0m\n",
      "Thought:\u001b[32;1m\u001b[1;3m I now know the final answer\n",
      "Final Answer: Mohandas Karamchand Gandhi was an Indian lawyer, anti-colonial nationalist and political ethicist who employed nonviolent resistance to lead the successful campaign for India's independence from British rule. He is considered the Father of the Nation in post-colonial India and is commemorated on his birthday, October 2nd, as Gandhi Jayanti. He is also known as Bapu, meaning \"father\" in Gujarati.\u001b[0m\n",
      "\n",
      "\u001b[1m> Finished chain.\u001b[0m\n"
     ]
    },
    {
     "data": {
      "text/plain": [
       "'Mohandas Karamchand Gandhi was an Indian lawyer, anti-colonial nationalist and political ethicist who employed nonviolent resistance to lead the successful campaign for India\\'s independence from British rule. He is considered the Father of the Nation in post-colonial India and is commemorated on his birthday, October 2nd, as Gandhi Jayanti. He is also known as Bapu, meaning \"father\" in Gujarati.'"
      ]
     },
     "execution_count": 15,
     "metadata": {},
     "output_type": "execute_result"
    }
   ],
   "source": [
    "docstore_agent.run(\"Tell me a few key things about Mahatma Gandhi\")"
   ]
  },
  {
   "cell_type": "code",
   "execution_count": 35,
   "metadata": {},
   "outputs": [],
   "source": [
    "\n",
    "from langchain.tools import DuckDuckGoSearchRun\n",
    "\n",
    "search = DuckDuckGoSearchRun()\n",
    "\n",
    "tools = [\n",
    "    Tool(\n",
    "        func= search.run,\n",
    "        name=\"Intermediate Answer\",\n",
    "        description=\"useful for when you ned to search the internet for information\"\n",
    "    )\n",
    "]\n",
    "\n",
    "agent = initialize_agent(\n",
    "    tools,\n",
    "    llm,\n",
    "    verbose=True,\n",
    "    handle_parsing_errors=True,\n",
    "    max_iterations=12\n",
    ")"
   ]
  },
  {
   "cell_type": "code",
   "execution_count": 36,
   "metadata": {},
   "outputs": [
    {
     "name": "stdout",
     "output_type": "stream",
     "text": [
      "\n",
      "\n",
      "\u001b[1m> Entering new AgentExecutor chain...\u001b[0m\n",
      "\u001b[32;1m\u001b[1;3m I have never heard of Jetbov before, so I should use the tools available to gather more information.\n",
      "Action: Intermediate Answer\n",
      "Action Input: tool_input = 'Union[str, Dict[str, Any]]', verbose = None, start_color = 'green', color = 'green', callbacks = None, tags = None, metadata = None, run_name = None, run_id = None, config = None, tool_call_id = None, **kwargs = None\u001b[0m\n",
      "Observation: \u001b[36;1m\u001b[1;3mIn both methods, the return observation statement is moved inside the else clause of the try-except block, and is only executed if self.return_direct is True.This ensures that the tool's output is returned directly only if no ToolException is encountered.. Please note that these modifications should be made in the base.py file of the tools module in the LangChain library. Hey there, @mathlover777!I'm here to assist you with any questions or issues you have. Let's tackle this together! To access configuration variables, such as the sessionId, within a tool function in LangChain, you can use the Context class to retrieve the context value. Here is an example of how you can modify your save_user tool to access the sessionId and save it along with the phone number: Issue you'd like to raise. I'm building an agent to interact with neo4j with a custom chain (I'm aware of the chains already implemented for this case), my problem comes when I try to pass multiple... ERROR:root:A single string input was passed in, but this chain expects multiple inputs ({'question', 'content_type'}). When a chain expects multiple inputs, please call it by passing in a dictionary, eg `chain({'foo': 1, 'bar': 2})`. Update 1: A little bit more of context The problem is that the LLMChain is generating the input for the run ... where the AIMessage has a tool_calls: List[ToolCall] attribute that will be populated if there are any tool invocations and will follow a standard interface for the tool calls: class ToolCall(TypedDict): name: str args: Dict[str, Any] id: Optional[str] That is, whether you're calling Anthropic, OpenAI, Gemini, etc., whenever there's a tool ...\u001b[0m\n",
      "Thought:\u001b[32;1m\u001b[1;3m I have gathered some information about Jetbov, but I still need to understand how it fits into the LangChain library and how it can be used.\n",
      "Action: Intermediate Answer\n",
      "Action Input: tool_input = 'Jetbov'\u001b[0m\n",
      "Observation: \u001b[36;1m\u001b[1;3mUse smart reports to track weight gains, breeding rates, sales simulators, and cost control to make the best decisions on your farm! HOW JETBOV WORKS: 1. Download and open the application; 2. Enter the email and password already registered in JetBov, or Create a new user. 3. Start weighing your cattle by indicating the earring number already ... The tool is defined as follows in our OpenAPI specification: openapi: 3.0.0 info: title: Log Analysis API version: 1.0.0 description: API for analyzing log differences and logs. paths: /api/v1/log-analysis-to-markdown: post: summary: Analyze logs within a specified time range and output in markdown format. How to calculate the tokens of the tools parameter of the latest version of the gpt-3.5-turbo-1106 model, no corresponding calculation example can be fo… how do you get tokens count with gpt-3.5-turbo-1106 'tools' param？ ... I want to know how to calculate the token of their input and output in 'stream' mode, There seems to have ... We're happy to introduce a more standardized interface for using tools: ChatModel.bind_tools(): a method for attaching tool definitions to model calls. AIMessage.tool_calls: an attribute on the AIMessage returned from the model for easily accessing the tool calls the model decided to make.; create_tool_calling_agent(): an agent constructor that works with ANY model that implements bind_tools ... With the JetBov do Gestor (Manager's JetBov) and the prospect of market expansion, the company expects to increase its turnover by 30% by 2024. ... In practice, the app allows the cattle farmer to develop a dialog and question the tool via text or audio messages—something very similar to what is currently seen with ChatGPT. The aim is to ...\u001b[0m\n",
      "Thought:\u001b[32;1m\u001b[1;3m I now have a better understanding of Jetbov and how it can be used in the LangChain library. It seems to be a tool for managing and analyzing data related to cattle farming.\n",
      "Final Answer: Jetbov is a tool for managing and analyzing data related to cattle farming, and it can be used in the LangChain library by using the Context class and the ChatModel.bind_tools() method. It allows cattle farmers to track weight gains, breeding rates, sales simulators, and cost control to make informed decisions for their farm.\u001b[0m\n",
      "\n",
      "\u001b[1m> Finished chain.\u001b[0m\n",
      "{'input': 'What is Jetbov?', 'output': 'Jetbov is a tool for managing and analyzing data related to cattle farming, and it can be used in the LangChain library by using the Context class and the ChatModel.bind_tools() method. It allows cattle farmers to track weight gains, breeding rates, sales simulators, and cost control to make informed decisions for their farm.'}\n"
     ]
    }
   ],
   "source": [
    "print(agent.invoke('What is Jetbov?'))"
   ]
  }
 ],
 "metadata": {
  "kernelspec": {
   "display_name": "lang_chain_studies-WWOOpBwl",
   "language": "python",
   "name": "python3"
  },
  "language_info": {
   "codemirror_mode": {
    "name": "ipython",
    "version": 3
   },
   "file_extension": ".py",
   "mimetype": "text/x-python",
   "name": "python",
   "nbconvert_exporter": "python",
   "pygments_lexer": "ipython3",
   "version": "3.10.12"
  }
 },
 "nbformat": 4,
 "nbformat_minor": 2
}
