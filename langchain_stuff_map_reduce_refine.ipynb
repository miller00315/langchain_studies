{
 "cells": [
  {
   "cell_type": "code",
   "execution_count": 1,
   "metadata": {},
   "outputs": [],
   "source": [
    "import os\n",
    "import getpass\n",
    "import textwrap\n",
    "\n",
    "from langchain import OpenAI, PromptTemplate, LLMChain\n",
    "from langchain.chains.mapreduce import MapReduceChain\n",
    "from langchain.prompts import PromptTemplate\n",
    "from langchain.chains.summarize import load_summarize_chain\n",
    "from langchain.docstore.document import Document\n",
    "from langchain.text_splitter import CharacterTextSplitter\n",
    "\n",
    "from dotenv import load_dotenv"
   ]
  },
  {
   "cell_type": "code",
   "execution_count": 2,
   "metadata": {},
   "outputs": [
    {
     "data": {
      "text/plain": [
       "True"
      ]
     },
     "execution_count": 2,
     "metadata": {},
     "output_type": "execute_result"
    }
   ],
   "source": [
    "load_dotenv()"
   ]
  },
  {
   "cell_type": "code",
   "execution_count": 3,
   "metadata": {},
   "outputs": [
    {
     "name": "stderr",
     "output_type": "stream",
     "text": [
      "/home/miller/.local/share/virtualenvs/lang_chain_studies-WWOOpBwl/lib/python3.10/site-packages/langchain_community/llms/openai.py:253: UserWarning: You are trying to use a chat model. This way of initializing it is no longer supported. Instead, please use: `from langchain_community.chat_models import ChatOpenAI`\n",
      "  warnings.warn(\n",
      "/home/miller/.local/share/virtualenvs/lang_chain_studies-WWOOpBwl/lib/python3.10/site-packages/langchain_community/llms/openai.py:1076: UserWarning: You are trying to use a chat model. This way of initializing it is no longer supported. Instead, please use: `from langchain_community.chat_models import ChatOpenAI`\n",
      "  warnings.warn(\n"
     ]
    }
   ],
   "source": [
    "model = OpenAI(model_name='gpt-3.5-turbo-instrucut', temperature=0.5)"
   ]
  },
  {
   "cell_type": "markdown",
   "metadata": {},
   "source": [
    "## Stuff chain"
   ]
  },
  {
   "cell_type": "code",
   "execution_count": 4,
   "metadata": {},
   "outputs": [],
   "source": [
    "from langchain_community.document_loaders import PyPDFLoader\n",
    "\n",
    "loader = PyPDFLoader('./data/Software-Engineer-CV.pdf')\n",
    "\n",
    "docs = loader.load()"
   ]
  },
  {
   "cell_type": "code",
   "execution_count": 5,
   "metadata": {},
   "outputs": [
    {
     "name": "stdout",
     "output_type": "stream",
     "text": [
      "---- Document # 1\n",
      "Name: Sunil Sharma                              Mobile: +91 9898989898  \n",
      " \n",
      "Designation: Senior Technical Lead                      Mail Id: sunil.sharma @gmail.com  \n",
      " \n",
      "Objective:   \n",
      "Experienced S enior Software Developer with 1 2 years of hands -on expertise in \n",
      "designing, developing, and delivering high -quality software solutions.  \n",
      "Proven track record of successfully leading and collaborating with cross -functional \n",
      "teams to deliver projects on time and within budget. Seeking to leverage my technical \n",
      "skills and leadership experience to contribute to innovative software projects.  \n",
      "Education:  \n",
      "Bachelor in Engineering in Electronics and Communication  \n",
      "K.L.N.  College of Information Technology, Madurai - 2007  \n",
      "Professional Summary:  \n",
      "• 12 years  of experience in Software Development in C on  Linux Environment . \n",
      "• Over 5 years of programming  experience as an Oracle PL/SQL  developer in \n",
      "Analysis, Design and Implementation of business application using Oracle DBMS . \n",
      "• Expertise in all stages of Software Development Life Cycle. \n",
      "• Effectively made use of Table functions, indexes, Table partitioning , Collections , \n",
      "Analytical functions  and materialized views . \n",
      "• Created tables, views, constraints  and indexes  (B Tree and function based).  \n",
      "• Developed complex DB objects like packages , procedures , functions  and triggers  \n",
      "using PL/SQL  \n",
      "• Experience in Oracle -supplied  packages, Dynamic SQL , records  and tables . \n",
      "• Loaded data into database tables using SQL Loader . \n",
      "• Good knowledge of Oracle performance -related features like query optimizer , \n",
      "execute plans  and indexes . \n",
      " \n",
      "Experience :\n",
      "---- Document # 2\n",
      "• Working as a Senior Technical Lead  in HCL-EHI project  since  August -2019 to till \n",
      "date  \n",
      " \n",
      "• Worked  as a Technical Lead  in NOKIA NETWORKS  in Research and Design \n",
      "Division of Protocol development and Digital Home  BU since August -2013  to \n",
      "September -2018  \n",
      " \n",
      "• Worked as a Senior Engineer  in Plintron  Global Technology Solutions Pvt. Ltd.  \n",
      " in Research and Design Division from June -2011 to August -2013  \n",
      " \n",
      "Skills:  \n",
      "• Programming  Languages:  PL/SQL, C, Pro C, Shell scripting  \n",
      "• Database Management: Oracle  \n",
      "• Operating System: Linux  \n",
      "• Version Control: GIT, TFS, CVS  \n",
      "• Tools: PL/SQL developer,  JIRA, Confluence, Visual studio, GDB, Mercurial, Spirent Test \n",
      "Centre (STC), Wireshark  \n",
      "• Leadership and Team Collaboration  \n",
      " \n",
      "Project History:  \n",
      " \n",
      "Project#1 : EHI – Advantasure   \n",
      " \n",
      "Organization  : HCL Technologies - Madurai  \n",
      "Position  : Senior Technical Lead  \n",
      "Domain  : Health care  \n",
      "Technologies  : C, Pro C , PL/SQL, Linux  \n",
      " \n",
      "Description : This project involves in providing the support for the insurance \n",
      "company - Advantasure in healthcare domain. The major lines of business are \n",
      "Enrolment, Billing and Claims. Claims adjudication team involves in handling all business \n",
      "logics for processing a claim from submission to payment.  \n",
      " \n",
      " \n",
      " \n",
      " \n",
      " \n",
      " \n",
      " \n",
      " \n",
      "Contribution :\n",
      "---- Document # 3\n",
      "• Currently, working as the lead developer in a healthcare project based on USA.  \n",
      "• Leading the offshore development activities.  \n",
      "• Handling the PL SQL development team and working with the team   \n",
      "• Expertise in solving problems on complex SQL related to Reporting . \n",
      "• Expertise in creating the indexes on tables and partitioning the table for SQL tuning \n",
      "purpose  \n",
      "• Expertise in writing very complex SQL queries which are helpful for reporting \n",
      "purpose  \n",
      "• Expertise in writing procedures, functions, views and materialized views as required  \n",
      "• Having good experience on Client Interaction and Presentation Skills.  \n",
      " \n",
      "Project# 2: Support of CFM on the ONT  \n",
      " \n",
      "Organization  : Nokia Networks – formerly Alcatel -Lucent  \n",
      "Position  : Technical Lead  \n",
      "Domain  : L2/L3 protocol dev elopment  \n",
      "Technologies  : PL/SQL, C, shell scripting and Linux  \n",
      " \n",
      "Description : This feature is to enhance ALU’s ONT GPON access networking solution \n",
      "with support for IEEE802.1ag CFM & ITU -T y.1731 protocols to perform Ethernet fault \n",
      "and performance management activities.  \n",
      " \n",
      "Project# 3: DSCP tagging for L3 packets   \n",
      " \n",
      "Organization  : Nokia Networks – formerly Alcatel -Lucent  \n",
      "Position  : Technical Lead  \n",
      "Domain  : L2/L3 protocol dev elopment  \n",
      "Technologies  : C, shell scripting and Linux  \n",
      " \n",
      "Description : This feature is to provide the configurable DSCP tagging on packets to \n",
      "differentiate best quality for all services.  \n",
      " \n",
      "Project# 4: Dual TR069 stack development on ONT   \n",
      " \n",
      "Description : Dedicated TR069 connection to WHW SaaS Server, in order to keep the \n",
      "solution inde pendent of carriers existing CDP . Collecting the WiF i Care parameter from \n",
      "the Gateway via TR069, as and when required.  Configuring UPnP, WAN, LAN, DHCP, \n",
      "WLAN setting, All WiFi parameters, IP connectivity, Speed test, Firewall setting, might \n",
      "add port/application setting related to Wi -Fi care.\n"
     ]
    }
   ],
   "source": [
    "for index, doc in enumerate(docs):\n",
    "    print(\"---- Document #\", index + 1)\n",
    "    print(doc.page_content.strip())"
   ]
  },
  {
   "cell_type": "code",
   "execution_count": 6,
   "metadata": {},
   "outputs": [],
   "source": [
    "prompt_template = \"\"\"\n",
    "You are given a Resume as the below text.\n",
    "------\n",
    "{text}\n",
    "------\n",
    "Question: Please respond with the Key Skil and expience summarry of the person,\n",
    "Key Skills:\n",
    "Experience summary:\n",
    "\"\"\""
   ]
  }
 ],
 "metadata": {
  "kernelspec": {
   "display_name": "lang_chain_studies-WWOOpBwl",
   "language": "python",
   "name": "python3"
  },
  "language_info": {
   "codemirror_mode": {
    "name": "ipython",
    "version": 3
   },
   "file_extension": ".py",
   "mimetype": "text/x-python",
   "name": "python",
   "nbconvert_exporter": "python",
   "pygments_lexer": "ipython3",
   "version": "3.10.12"
  }
 },
 "nbformat": 4,
 "nbformat_minor": 2
}
