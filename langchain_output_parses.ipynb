{
 "cells": [
  {
   "cell_type": "code",
   "execution_count": 1,
   "metadata": {},
   "outputs": [
    {
     "data": {
      "text/plain": [
       "True"
      ]
     },
     "execution_count": 1,
     "metadata": {},
     "output_type": "execute_result"
    }
   ],
   "source": [
    "from langchain.output_parsers import CommaSeparatedListOutputParser\n",
    "from langchain.prompts import PromptTemplate\n",
    "from langchain_openai import ChatOpenAI\n",
    "from dotenv import load_dotenv\n",
    "\n",
    "load_dotenv()"
   ]
  },
  {
   "cell_type": "markdown",
   "metadata": {},
   "source": [
    "## CSV Parser"
   ]
  },
  {
   "cell_type": "code",
   "execution_count": 6,
   "metadata": {},
   "outputs": [],
   "source": [
    "model = ChatOpenAI(temperature=0)\n",
    "\n",
    "output_parser = CommaSeparatedListOutputParser()\n",
    "\n",
    "format_instructions = output_parser.get_format_instructions()\n",
    "\n",
    "prompt = PromptTemplate(\n",
    "    template='List five places {places}.\\n{format_instructions}',\n",
    "    input_variables=[\"places\"],\n",
    "    partial_variables={'format_instructions': format_instructions}\n",
    ")\n",
    "\n",
    "chain = prompt | model | output_parser"
   ]
  },
  {
   "cell_type": "code",
   "execution_count": 7,
   "metadata": {},
   "outputs": [
    {
     "data": {
      "text/plain": [
       "['Rio de Janeiro',\n",
       " 'Salvador',\n",
       " 'Florianópolis',\n",
       " 'Foz do Iguaçu',\n",
       " 'Amazon Rainforest']"
      ]
     },
     "execution_count": 7,
     "metadata": {},
     "output_type": "execute_result"
    }
   ],
   "source": [
    "chain.invoke({'places': 'for summer tourism in Brazil'})"
   ]
  },
  {
   "cell_type": "markdown",
   "metadata": {},
   "source": [
    "# JSON Parser"
   ]
  },
  {
   "cell_type": "code",
   "execution_count": 8,
   "metadata": {},
   "outputs": [
    {
     "data": {
      "text/plain": [
       "{'place': 'Gramado',\n",
       " 'description': 'A charming mountain town known for its cooler temperatures and European-inspired architecture.',\n",
       " 'activities': 'Visiting the Mini Mundo miniature park, exploring the Black Lake Park, and enjoying the local cuisine and chocolate shops.'}"
      ]
     },
     "execution_count": 8,
     "metadata": {},
     "output_type": "execute_result"
    }
   ],
   "source": [
    "from typing import List\n",
    "from langchain_core.output_parsers import JsonOutputParser\n",
    "from openai import BaseModel\n",
    "from pydantic import Field\n",
    "\n",
    "class Travel(BaseModel):\n",
    "    place: str = Field(description='anme of the places')\n",
    "    description: str = Field(description='description of the place')\n",
    "    activities: str = Field(description='what to do in that place')\n",
    "\n",
    "travel_query = \"Suggest a place in Brazil for going on a trip this summer to avoid heat.\"\n",
    "\n",
    "parser = JsonOutputParser(pydantic_object=Travel)\n",
    "\n",
    "prompt = PromptTemplate(\n",
    "    template='Answer the user query. \\n{format_instructions}\\n{query}\\n',\n",
    "    input_variables=['query'],\n",
    "    partial_variables={'format_instructions': parser.get_format_instructions()}\n",
    ")\n",
    "\n",
    "chain = prompt | model | parser\n",
    "\n",
    "chain.invoke({\"query\": travel_query})"
   ]
  },
  {
   "cell_type": "markdown",
   "metadata": {},
   "source": [
    "## Without pydantic"
   ]
  },
  {
   "cell_type": "code",
   "execution_count": 9,
   "metadata": {},
   "outputs": [
    {
     "data": {
      "text/plain": [
       "{'destination': 'Campos do Jordão',\n",
       " 'description': 'Campos do Jordão is a mountain town in the state of São Paulo, Brazil. It is known for its cool climate and European-style architecture, making it a popular destination for those looking to escape the heat during the summer months. The town is surrounded by lush forests and offers a variety of outdoor activities such as hiking, horseback riding, and cycling. Campos do Jordão also has a vibrant cultural scene, with numerous art galleries, museums, and music festivals to explore. Overall, it is a great place to visit for a refreshing summer getaway.'}"
      ]
     },
     "execution_count": 9,
     "metadata": {},
     "output_type": "execute_result"
    }
   ],
   "source": [
    "travel_query = \"Suggest a place in Brazil for going on a trip this summer to avoid heat.\"\n",
    "\n",
    "travel_query = \"Suggest a place in Brazil for going on a trip this summer to avoid heat.\"\n",
    "\n",
    "parser = JsonOutputParser()\n",
    "\n",
    "prompt = PromptTemplate(\n",
    "    template='Answer the user query. \\n{format_instructions}\\n{query}\\n',\n",
    "    input_variables=['query'],\n",
    "    partial_variables={'format_instructions': parser.get_format_instructions()}\n",
    ")\n",
    "\n",
    "chain = prompt | model | parser\n",
    "\n",
    "chain.invoke({\"query\": travel_query})"
   ]
  },
  {
   "cell_type": "markdown",
   "metadata": {},
   "source": [
    "## Structured Output parser"
   ]
  },
  {
   "cell_type": "code",
   "execution_count": 10,
   "metadata": {},
   "outputs": [
    {
     "data": {
      "text/plain": [
       "{'answer': 'Telemedicine',\n",
       " 'description': 'Telemedicine is the use of telecommunication and information technology to provide clinical healthcare from a distance. It has revolutionized healthcare by enabling remote diagnosis, monitoring, and treatment of patients, especially in rural or underserved areas. Telemedicine has improved access to healthcare services, reduced healthcare costs, and increased efficiency in healthcare delivery.',\n",
       " 'applications': 'Real world applications of telemedicine include virtual doctor visits, remote patient monitoring, telepsychiatry, telestroke services, and tele-ICU care.'}"
      ]
     },
     "execution_count": 10,
     "metadata": {},
     "output_type": "execute_result"
    }
   ],
   "source": [
    "from langchain.output_parsers import ResponseSchema, StructuredOutputParser\n",
    "\n",
    "responses_schemas = [\n",
    "    ResponseSchema(name=\"answer\", description='answer to the user\\'s questions'),\n",
    "    ResponseSchema(name='description', description='detailed description on the answer topic'),\n",
    "    ResponseSchema(name='applications', description='Real world applications of the aswer topic')\n",
    "]\n",
    "\n",
    "output_parser = StructuredOutputParser.from_response_schemas(responses_schemas)\n",
    "\n",
    "format_instructions = output_parser.get_format_instructions()\n",
    "\n",
    "prompt = PromptTemplate(\n",
    "    template='answer the users question as best as possible.\\n{format_instructions}\\n{question}',\n",
    "    input_variables=['questions'],\n",
    "    partial_variables={'format_instructions': format_instructions}\n",
    ")\n",
    "\n",
    "chain = prompt | model | output_parser\n",
    "\n",
    "chain.invoke({'question': 'Name an invetion in Healthcare that has caused revolution in twenty first century'})"
   ]
  },
  {
   "cell_type": "code",
   "execution_count": null,
   "metadata": {},
   "outputs": [],
   "source": []
  },
  {
   "cell_type": "code",
   "execution_count": null,
   "metadata": {},
   "outputs": [],
   "source": []
  },
  {
   "cell_type": "code",
   "execution_count": null,
   "metadata": {},
   "outputs": [],
   "source": []
  },
  {
   "cell_type": "code",
   "execution_count": null,
   "metadata": {},
   "outputs": [],
   "source": []
  },
  {
   "cell_type": "code",
   "execution_count": null,
   "metadata": {},
   "outputs": [],
   "source": []
  },
  {
   "cell_type": "code",
   "execution_count": null,
   "metadata": {},
   "outputs": [],
   "source": []
  },
  {
   "cell_type": "code",
   "execution_count": null,
   "metadata": {},
   "outputs": [],
   "source": []
  },
  {
   "cell_type": "code",
   "execution_count": null,
   "metadata": {},
   "outputs": [],
   "source": []
  },
  {
   "cell_type": "code",
   "execution_count": null,
   "metadata": {},
   "outputs": [],
   "source": []
  },
  {
   "cell_type": "code",
   "execution_count": null,
   "metadata": {},
   "outputs": [],
   "source": []
  },
  {
   "cell_type": "code",
   "execution_count": null,
   "metadata": {},
   "outputs": [],
   "source": []
  },
  {
   "cell_type": "code",
   "execution_count": null,
   "metadata": {},
   "outputs": [],
   "source": []
  },
  {
   "cell_type": "code",
   "execution_count": null,
   "metadata": {},
   "outputs": [],
   "source": []
  }
 ],
 "metadata": {
  "kernelspec": {
   "display_name": "lang_chain_studies-WWOOpBwl",
   "language": "python",
   "name": "python3"
  },
  "language_info": {
   "codemirror_mode": {
    "name": "ipython",
    "version": 3
   },
   "file_extension": ".py",
   "mimetype": "text/x-python",
   "name": "python",
   "nbconvert_exporter": "python",
   "pygments_lexer": "ipython3",
   "version": "3.10.12"
  }
 },
 "nbformat": 4,
 "nbformat_minor": 2
}
