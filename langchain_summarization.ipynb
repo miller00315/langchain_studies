{
 "cells": [
  {
   "cell_type": "code",
   "execution_count": 1,
   "metadata": {},
   "outputs": [
    {
     "data": {
      "text/plain": [
       "True"
      ]
     },
     "execution_count": 1,
     "metadata": {},
     "output_type": "execute_result"
    }
   ],
   "source": [
    "import os\n",
    "from dotenv import load_dotenv, find_dotenv\n",
    "load_dotenv(find_dotenv(), override=True)"
   ]
  },
  {
   "cell_type": "markdown",
   "metadata": {},
   "source": [
    "### a) Basic prompt"
   ]
  },
  {
   "cell_type": "code",
   "execution_count": 2,
   "metadata": {},
   "outputs": [],
   "source": [
    "from langchain_openai import ChatOpenAI\n",
    "from langchain.schema import (\n",
    "    AIMessage,\n",
    "    HumanMessage,\n",
    "    SystemMessage\n",
    ")"
   ]
  },
  {
   "cell_type": "code",
   "execution_count": 6,
   "metadata": {},
   "outputs": [],
   "source": [
    "text = \"\"\"\n",
    "Teoria dos jogos ou Teoria de jogos é um ramo da matemática aplicada que estuda situações \n",
    "estratégicas onde jogadores escolhem diferentes ações na tentativa de melhorar seu retorno. \n",
    "Inicialmente desenvolvida como ferramenta para compreender comportamento econômico e depois \n",
    "usada pela Corporação RAND para definir estratégias nucleares, a teoria dos jogos é hoje usada \n",
    "em diversos campos acadêmicos. A partir de 1970 a teoria dos jogos passou a ser aplicada ao \n",
    "estudo do comportamento animal, incluindo evolução das espécies por seleção natural. Devido a \n",
    "interesse em jogos como o dilema do prisioneiro iterado, no qual é mostrada a impotência de \n",
    "dois jogadores racionais escolherem algo que beneficie a ambos sem combinado prévio, a teoria \n",
    "dos jogos vem sendo aplicada nas ciências políticas, ciências militares, ética, economia, \n",
    "filosofia e, recentemente, no jornalismo, área que apresenta inúmeros e diversos jogos, \n",
    "tanto competitivos como cooperativos. Finalmente, a teoria dos jogos despertou a atenção \n",
    "da ciência da computação que a vem utilizando em avanços na inteligência artificial e cibernética.\n",
    "\"\"\"\n",
    "\n",
    "messages = [\n",
    "    SystemMessage(content='You are a expert copywriter with expertie in summarizing documents'),\n",
    "    HumanMessage(content=f'Please provide a short and concise summary of the follow test: \\n TEXT: {text}')\n",
    "]\n",
    "\n",
    "llm = ChatOpenAI(temperature=0, model_name='gpt-3.5-turbo')"
   ]
  },
  {
   "cell_type": "code",
   "execution_count": 5,
   "metadata": {},
   "outputs": [
    {
     "data": {
      "text/plain": [
       "302"
      ]
     },
     "execution_count": 5,
     "metadata": {},
     "output_type": "execute_result"
    }
   ],
   "source": [
    "llm.get_num_tokens(text=text)"
   ]
  },
  {
   "cell_type": "code",
   "execution_count": 7,
   "metadata": {},
   "outputs": [
    {
     "name": "stdout",
     "output_type": "stream",
     "text": [
      "content='Game theory is a branch of applied mathematics that studies strategic situations where players choose different actions to improve their outcomes. Initially developed to understand economic behavior and later used by the RAND Corporation to define nuclear strategies, game theory is now applied in various academic fields. Since the 1970s, it has been used to study animal behavior, including species evolution through natural selection. Game theory is also applied in political science, military science, ethics, economics, philosophy, and journalism. Recently, it has gained attention in computer science for advancements in artificial intelligence and cybernetics.' response_metadata={'token_usage': {'completion_tokens': 113, 'prompt_tokens': 341, 'total_tokens': 454}, 'model_name': 'gpt-3.5-turbo-0125', 'system_fingerprint': None, 'finish_reason': 'stop', 'logprobs': None} id='run-01618dcc-473c-457c-a847-de4344cce8ae-0' usage_metadata={'input_tokens': 341, 'output_tokens': 113, 'total_tokens': 454}\n"
     ]
    }
   ],
   "source": [
    "summary_output = llm.invoke(messages)\n",
    "\n",
    "print(summary_output)"
   ]
  },
  {
   "cell_type": "markdown",
   "metadata": {},
   "source": [
    "### Summaring using prompt templates"
   ]
  },
  {
   "cell_type": "code",
   "execution_count": 8,
   "metadata": {},
   "outputs": [],
   "source": [
    "from langchain import PromptTemplate\n",
    "from langchain.chains import LLMChain"
   ]
  },
  {
   "cell_type": "code",
   "execution_count": 9,
   "metadata": {},
   "outputs": [],
   "source": [
    "\n",
    "template = '''\n",
    "Write a concise and short summary of the following text:\n",
    "TEXT: `{text}`\n",
    "Translate the summary to {language}\n",
    "'''\n",
    "\n",
    "prompt =  PromptTemplate(\n",
    "    input_variables=['text', 'language'],\n",
    "    template=template\n",
    ")"
   ]
  },
  {
   "cell_type": "code",
   "execution_count": 11,
   "metadata": {},
   "outputs": [
    {
     "data": {
      "text/plain": [
       "323"
      ]
     },
     "execution_count": 11,
     "metadata": {},
     "output_type": "execute_result"
    }
   ],
   "source": [
    "llm.get_num_tokens(prompt.format(text=text, language='English'))"
   ]
  },
  {
   "cell_type": "code",
   "execution_count": 12,
   "metadata": {},
   "outputs": [
    {
     "name": "stdout",
     "output_type": "stream",
     "text": [
      "Game theory is a branch of applied mathematics that studies strategic situations where players choose different actions in an attempt to improve their return. Initially developed as a tool to understand economic behavior and later used by the RAND Corporation to define nuclear strategies, game theory is now used in various academic fields. Since the 1970s, game theory has been applied to the study of animal behavior, including the evolution of species through natural selection. Due to interest in games like the iterated prisoner's dilemma, where the powerlessness of two rational players to choose something that benefits both without prior agreement is shown, game theory has been applied in political science, military science, ethics, economics, philosophy, and recently in journalism. Finally, game theory has caught the attention of computer science, which has been using it in advances in artificial intelligence and cybernetics.\n"
     ]
    }
   ],
   "source": [
    "chain = LLMChain(llm=llm, prompt=prompt)\n",
    "\n",
    "summary = chain.run({'text': text, 'language': 'English'})\n",
    "\n",
    "print(summary)"
   ]
  },
  {
   "cell_type": "markdown",
   "metadata": {},
   "source": [
    "### Summarizing using StuffDocumentsChain"
   ]
  },
  {
   "cell_type": "code",
   "execution_count": 13,
   "metadata": {},
   "outputs": [],
   "source": [
    "from langchain.chains.summarize import load_summarize_chain\n",
    "from langchain.docstore.document import Document"
   ]
  },
  {
   "cell_type": "code",
   "execution_count": 16,
   "metadata": {},
   "outputs": [],
   "source": [
    "with open('data/churchill_speech.txt', encoding='utf-8') as file:\n",
    "    text = file.read()\n",
    "\n",
    "docs = [Document(page_content=text)]"
   ]
  },
  {
   "cell_type": "code",
   "execution_count": 17,
   "metadata": {},
   "outputs": [],
   "source": [
    "template = '''\n",
    "Write a concise and short summary of the following text:\n",
    "TEXT: `{text}`\n",
    "'''\n",
    "\n",
    "prompt =  PromptTemplate(\n",
    "    input_variables=['text'],\n",
    "    template=template\n",
    ") "
   ]
  },
  {
   "cell_type": "code",
   "execution_count": 19,
   "metadata": {},
   "outputs": [],
   "source": [
    "chain = load_summarize_chain(\n",
    "    llm=llm,\n",
    "    chain_type='stuff',\n",
    "    prompt=prompt,\n",
    "    verbose=False\n",
    ")\n",
    "\n",
    "output_summary = chain.invoke(docs)"
   ]
  },
  {
   "cell_type": "code",
   "execution_count": 21,
   "metadata": {},
   "outputs": [
    {
     "name": "stdout",
     "output_type": "stream",
     "text": [
      "In his speech \"We Shall Fight on the Beaches\" delivered on June 4, 1940, Winston Churchill recounts the events leading up to the evacuation of Dunkirk during World War II. He describes the desperate situation faced by the British and French Armies as they were surrounded by German forces, and the heroic efforts made to evacuate troops from the beaches. Churchill emphasizes the importance of air power in the successful evacuation and expresses confidence in the ability of the British Empire to defend their homeland against tyranny, declaring their determination to fight on no matter the cost.\n"
     ]
    }
   ],
   "source": [
    "print(output_summary['output_text'])"
   ]
  },
  {
   "cell_type": "markdown",
   "metadata": {},
   "source": [
    "### Sumarizing large documents using map reduce"
   ]
  },
  {
   "cell_type": "code",
   "execution_count": 22,
   "metadata": {},
   "outputs": [],
   "source": [
    "from langchain.text_splitter import RecursiveCharacterTextSplitter"
   ]
  },
  {
   "cell_type": "code",
   "execution_count": 24,
   "metadata": {},
   "outputs": [],
   "source": [
    "with open('data/churchill_speech.txt', encoding='utf-8') as file:\n",
    "    text = file.read()\n",
    "\n",
    "recursive_text_splitter = RecursiveCharacterTextSplitter(chunk_size=1000, chunk_overlap=50)\n",
    "\n",
    "chunks = recursive_text_splitter.create_documents([text])"
   ]
  },
  {
   "cell_type": "code",
   "execution_count": 25,
   "metadata": {},
   "outputs": [
    {
     "data": {
      "text/plain": [
       "23"
      ]
     },
     "execution_count": 25,
     "metadata": {},
     "output_type": "execute_result"
    }
   ],
   "source": [
    "len(chunks)"
   ]
  },
  {
   "cell_type": "code",
   "execution_count": 26,
   "metadata": {},
   "outputs": [],
   "source": [
    "chain = load_summarize_chain(\n",
    "    llm=llm,\n",
    "    chain_type='stuff',\n",
    "    prompt=prompt,\n",
    "    verbose=False\n",
    ")\n",
    "\n",
    "output_summary = chain.invoke(chunks)"
   ]
  },
  {
   "cell_type": "code",
   "execution_count": 27,
   "metadata": {},
   "outputs": [
    {
     "name": "stdout",
     "output_type": "stream",
     "text": [
      "In his speech \"We Shall Fight on the Beaches\" delivered on June 4, 1940, Winston Churchill describes the dire situation faced by the British and French Armies during World War II. He recounts the intense battles and sacrifices made to evacuate troops from Dunkirk, highlighting the bravery of the soldiers and the crucial role played by the Royal Air Force and Navy. Despite facing colossal military disasters in France and Belgium, Churchill expresses determination to defend the British Isles against invasion, emphasizing the resolve of the government, Parliament, and the nation to fight on and never surrender.\n"
     ]
    }
   ],
   "source": [
    "print(output_summary['output_text'])"
   ]
  },
  {
   "cell_type": "code",
   "execution_count": 30,
   "metadata": {},
   "outputs": [],
   "source": [
    "map_prompt = '''\n",
    "Write a short and concise summary of the following:\n",
    "Text: `{text}`\n",
    "CONciseE SuMMARY\n",
    "'''\n",
    "\n",
    "map_prompt_template =  PromptTemplate(\n",
    "    input_variables=['text'],\n",
    "    template=map_prompt\n",
    ") "
   ]
  },
  {
   "cell_type": "code",
   "execution_count": 32,
   "metadata": {},
   "outputs": [],
   "source": [
    "combine_prompt = '''\n",
    "Wriet a consize summary of the fallowing text that covers the key points.\n",
    "Add a title to the summary.\n",
    "Start your summary with a INTRODUCTION PARAGRAPH tha gives an overview of the topic FOLLOWED\n",
    "by BULLET POINTS if possible AND end the summary with a CONCLUSION PHRASE.\n",
    "Text: `{text}`\n",
    "'''\n",
    "\n",
    "combine_prompt_template =  PromptTemplate(\n",
    "    input_variables=['text'],\n",
    "    template=combine_prompt\n",
    ") "
   ]
  },
  {
   "cell_type": "code",
   "execution_count": 34,
   "metadata": {},
   "outputs": [],
   "source": [
    "summary_chain = load_summarize_chain(\n",
    "    llm=llm,\n",
    "    chain_type='map_reduce',\n",
    "    map_prompt=map_prompt_template,\n",
    "    combine_prompt=combine_prompt_template,\n",
    "    verbose=False\n",
    ")\n",
    "\n",
    "output = summary_chain.invoke(chunks)"
   ]
  },
  {
   "cell_type": "code",
   "execution_count": 36,
   "metadata": {},
   "outputs": [
    {
     "name": "stdout",
     "output_type": "stream",
     "text": [
      "Title: Winston Churchill's Speech on the Evacuation of Dunkirk\n",
      "\n",
      "Introduction:\n",
      "Winston Churchill's speech on June 4, 1940, highlighted the dire situation faced by the British and French Armies after the French defenses were broken. Despite overwhelming odds, the determination to fight on was emphasized.\n",
      "\n",
      "Key Points:\n",
      "- Belgian Army overwhelmed by German forces, leading to the need for a rapid retreat to Dunkirk\n",
      "- Fierce defense of Boulogne and Calais by British and French forces\n",
      "- Successful evacuation of over 335,000 troops from Dunkirk by Royal Air Force and Navy\n",
      "- Importance of recognizing the victory achieved by the Air Force during the evacuation\n",
      "- Bravery and skill of Royal Air Force pilots in defending against German forces\n",
      "- Heavy losses suffered in battle, but British Expeditionary Force remains well-equipped\n",
      "- Need to reconstitute and strengthen the British Expeditionary Force for defensive preparations\n",
      "- Determination of His Majesty's Government and the nation to defend against Nazi rule\n",
      "\n",
      "Conclusion:\n",
      "Despite heavy losses and challenges, the British Empire and French Republic are united in their cause to defend their native soil against Nazi rule, with the determination to never surrender.\n"
     ]
    }
   ],
   "source": [
    "print(output['output_text'])"
   ]
  },
  {
   "cell_type": "markdown",
   "metadata": {},
   "source": [
    "### Sumarizing CombinedDocumentChain"
   ]
  },
  {
   "cell_type": "code",
   "execution_count": 42,
   "metadata": {},
   "outputs": [],
   "source": [
    "from langchain.document_loaders import UnstructuredPDFLoader\n",
    "\n",
    "loader = UnstructuredPDFLoader('data/rag_powered_by_google_search.pdf')\n"
   ]
  },
  {
   "cell_type": "markdown",
   "metadata": {},
   "source": [
    "Summarizing using langchain agents"
   ]
  },
  {
   "cell_type": "code",
   "execution_count": 46,
   "metadata": {},
   "outputs": [],
   "source": [
    "from langchain.agents import initialize_agent, Tool\n",
    "from langchain.utilities import WikipediaAPIWrapper"
   ]
  },
  {
   "cell_type": "code",
   "execution_count": 47,
   "metadata": {},
   "outputs": [],
   "source": [
    "llm = ChatOpenAI(temperature=0, model_name='gpt-3.5-turbo')\n",
    "wikipedia = WikipediaAPIWrapper()"
   ]
  },
  {
   "cell_type": "code",
   "execution_count": 49,
   "metadata": {},
   "outputs": [],
   "source": [
    "tools = [\n",
    "    Tool(\n",
    "        name='Wikipedia',\n",
    "        func=wikipedia.run,\n",
    "        description='Usefull for when you need to get information from wikipedia.'\n",
    "    )\n",
    "]"
   ]
  },
  {
   "cell_type": "code",
   "execution_count": 50,
   "metadata": {},
   "outputs": [],
   "source": [
    "agent_executor = initialize_agent(\n",
    "    tools=tools,\n",
    "    llm=llm,\n",
    "    agent='zero-shot-react-description',\n",
    "    verbose=True\n",
    ")"
   ]
  },
  {
   "cell_type": "code",
   "execution_count": 51,
   "metadata": {},
   "outputs": [
    {
     "name": "stdout",
     "output_type": "stream",
     "text": [
      "\n",
      "\n",
      "\u001b[1m> Entering new AgentExecutor chain...\u001b[0m\n",
      "\u001b[32;1m\u001b[1;3mI should use Wikipedia to get a brief summary of George Washington.\n",
      "Action: Wikipedia\n",
      "Action Input: George Washington\u001b[0m\n",
      "Observation: \u001b[36;1m\u001b[1;3mPage: George Washington\n",
      "Summary: George Washington (February 22, 1732 – December 14, 1799) was an American Founding Father, military officer, and politician who served as the first president of the United States from 1789 to 1797. Appointed by the Second Continental Congress as commander of the Continental Army in 1775, Washington led Patriot forces to victory in the American Revolutionary War and then served as president of the Constitutional Convention in 1787, which drafted the current Constitution of the United States. Washington has thus become commonly known as the \"Father of his Country\".\n",
      "Washington's first public office, from 1749 to 1750, was as surveyor of Culpeper County in the Colony of Virginia. In 1752, he received military training and was granted the rank of major in the Virginia Regiment. During the French and Indian War, Washington was promoted to lieutenant colonel in 1754 and subsequently became head of the Virginia Regiment in 1755. He was later elected to the Virginia House of Burgesses and was named a delegate to the Continental Congress in Philadelphia, which appointed him commander-in-chief of the Continental Army. Washington led American forces to a decisive victory over the British in the Revolutionary War, leading the British to sign the Treaty of Paris, which acknowledged the sovereignty and independence of the United States. He resigned his commission in 1783 after the conclusion of the Revolutionary War.\n",
      "Washington played an indispensable role in adopting and ratifying the Constitution, which replaced the Articles of Confederation in 1789. He was then twice elected president unanimously by the Electoral College in 1788 and 1792. As the first U.S. president, Washington implemented a strong, well-financed national government while remaining impartial in a fierce rivalry that emerged between cabinet members Thomas Jefferson and Alexander Hamilton. During the French Revolution, he proclaimed a policy of neutrality while additionally sanctioning the Jay Treaty. He set enduring precedents for the office of president, including republicanism, a peaceful transfer of power, the use of the title \"Mr. President\", and the two-term tradition. His 1796 farewell address became a preeminent statement on republicanism in which he wrote about the importance of national unity and the dangers that regionalism, partisanship, and foreign influence pose to it.\n",
      "Washington's image is an icon of American culture. He has been memorialized by monuments, a federal holiday, various media depictions, geographical locations including the national capital, the State of Washington, stamps, and currency. In 1976, Washington was posthumously promoted to the rank of general of the Armies, the highest rank in the U.S. Army. Washington consistently ranks in both popular and scholarly polls as one of the greatest presidents in American history.\n",
      "\n",
      "\n",
      "\n",
      "Page: George Washington Carver\n",
      "Summary: George Washington Carver (c. 1864 – January 5, 1943) was an American agricultural scientist and inventor who promoted alternative crops to cotton and methods to prevent soil depletion. He was one of the most prominent black scientists of the early 20th century.\n",
      "While a professor at Tuskegee Institute, Carver developed techniques to improve types of soils depleted by repeated plantings of cotton. He wanted poor farmers to grow other crops, such as peanuts and sweet potatoes, as a source of their own food and to improve their quality of life. Under his leadership, the Experiment Station at Tuskegee published over forty practical bulletins for farmers, many written by him, which included recipes; many of the bulletins contained advice for poor farmers, including combating soil depletion with limited financial means, producing bigger crops, and preserving food.\n",
      "Apart from his work to improve the lives of farmers, Carver was also a leader in promoting environmentalism. He received numerous honors for his work, including the Spingarn Medal of the NAACP. In an\u001b[0m\n",
      "Thought:\u001b[32;1m\u001b[1;3mI now know the final answer\n",
      "Final Answer: George Washington was an American Founding Father, military officer, and politician who served as the first president of the United States from 1789 to 1797. George Washington Carver was an American agricultural scientist and inventor who promoted alternative crops to cotton and methods to prevent soil depletion.\u001b[0m\n",
      "\n",
      "\u001b[1m> Finished chain.\u001b[0m\n"
     ]
    }
   ],
   "source": [
    "ouptput = agent_executor.invoke('Can you please provide a short summary of George Washington?')"
   ]
  },
  {
   "cell_type": "code",
   "execution_count": 53,
   "metadata": {},
   "outputs": [
    {
     "name": "stdout",
     "output_type": "stream",
     "text": [
      "Title: Winston Churchill's Speech on the Evacuation of Dunkirk\n",
      "\n",
      "Introduction:\n",
      "Winston Churchill's speech on June 4, 1940, highlighted the dire situation faced by the British and French Armies after the French defenses were broken. Despite overwhelming odds, the determination to fight on was emphasized.\n",
      "\n",
      "Key Points:\n",
      "- Belgian Army overwhelmed by German forces, leading to the need for a rapid retreat to Dunkirk\n",
      "- Fierce defense of Boulogne and Calais by British and French forces\n",
      "- Successful evacuation of over 335,000 troops from Dunkirk by Royal Air Force and Navy\n",
      "- Importance of recognizing the victory achieved by the Air Force during the evacuation\n",
      "- Bravery and skill of Royal Air Force pilots in defending against German forces\n",
      "- Heavy losses suffered in battle, but British Expeditionary Force remains well-equipped\n",
      "- Need to reconstitute and strengthen the British Expeditionary Force for defensive preparations\n",
      "- Determination of His Majesty's Government and the nation to defend against Nazi rule\n",
      "\n",
      "Conclusion:\n",
      "Despite heavy losses and challenges, the British Empire and French Republic are united in their cause to defend their native soil against Nazi rule, with the determination to never surrender.\n"
     ]
    }
   ],
   "source": [
    "print(output['output_text'])"
   ]
  },
  {
   "cell_type": "code",
   "execution_count": null,
   "metadata": {},
   "outputs": [],
   "source": []
  },
  {
   "cell_type": "code",
   "execution_count": null,
   "metadata": {},
   "outputs": [],
   "source": []
  },
  {
   "cell_type": "code",
   "execution_count": null,
   "metadata": {},
   "outputs": [],
   "source": []
  },
  {
   "cell_type": "code",
   "execution_count": null,
   "metadata": {},
   "outputs": [],
   "source": []
  },
  {
   "cell_type": "code",
   "execution_count": null,
   "metadata": {},
   "outputs": [],
   "source": []
  },
  {
   "cell_type": "code",
   "execution_count": null,
   "metadata": {},
   "outputs": [],
   "source": []
  },
  {
   "cell_type": "code",
   "execution_count": null,
   "metadata": {},
   "outputs": [],
   "source": []
  },
  {
   "cell_type": "code",
   "execution_count": null,
   "metadata": {},
   "outputs": [],
   "source": []
  }
 ],
 "metadata": {
  "kernelspec": {
   "display_name": "lang_chain_studies-WWOOpBwl",
   "language": "python",
   "name": "python3"
  },
  "language_info": {
   "codemirror_mode": {
    "name": "ipython",
    "version": 3
   },
   "file_extension": ".py",
   "mimetype": "text/x-python",
   "name": "python",
   "nbconvert_exporter": "python",
   "pygments_lexer": "ipython3",
   "version": "3.10.12"
  }
 },
 "nbformat": 4,
 "nbformat_minor": 2
}
